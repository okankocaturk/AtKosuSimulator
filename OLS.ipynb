import pandas
from sklearn import linear_model

df = pandas.read_csv("desktop/dataRaces.csv",error_bad_lines=False)

X = df[['KosuCinsi', 'grup', 'mesafePist', 'jokey', 'kilo']]
y = df['tam_salise']
X_2 = pandas.get_dummies(X, drop_first=True)

regr = linear_model.LinearRegression()
regr.fit(X_2, y)


#print(X_2.columns)

import statsmodels.api as sm
X_2_sm= sm.add_constant(X_2)
ls=sm.OLS(y, X_2_sm).fit()                     #Ordinary Least Squares
print(ls.summary())
